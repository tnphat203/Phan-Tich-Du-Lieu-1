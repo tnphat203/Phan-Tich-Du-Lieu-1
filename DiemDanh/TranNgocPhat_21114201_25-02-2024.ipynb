{
 "cells": [
  {
   "cell_type": "markdown",
   "metadata": {},
   "source": [
    "1. Đọc dữ liệu\n",
    "2. Hiển thị 5 dòng dữ liệu đầu tiên\n",
    "3. Kích thước dữ liệu\n",
    "4. Hiển thị thông tin các cột |\n",
    "5. Kiểm tra giá trị null và xử lý null\n",
    "6. Mô tả dữ liệu dùng các đại lượng thống kê mô tả"
   ]
  },
  {
   "cell_type": "code",
   "execution_count": 24,
   "metadata": {},
   "outputs": [
    {
     "name": "stdout",
     "output_type": "stream",
     "text": [
      "    Loan_ID Gender Married Dependents     Education Self_Employed  \\\n",
      "0  LP001003   Male     Yes          1      Graduate            No   \n",
      "1  LP001005   Male     Yes          0      Graduate           Yes   \n",
      "2  LP001006   Male     Yes          0  Not Graduate            No   \n",
      "3  LP001008   Male      No          0      Graduate            No   \n",
      "4  LP001013   Male     Yes          0  Not Graduate            No   \n",
      "\n",
      "   ApplicantIncome  CoapplicantIncome  LoanAmount  Loan_Amount_Term  \\\n",
      "0             4583             1508.0       128.0             360.0   \n",
      "1             3000                0.0        66.0             360.0   \n",
      "2             2583             2358.0       120.0             360.0   \n",
      "3             6000                0.0       141.0             360.0   \n",
      "4             2333             1516.0        95.0             360.0   \n",
      "\n",
      "   Credit_History Property_Area Loan_Status  \n",
      "0             1.0         Rural           N  \n",
      "1             1.0         Urban           Y  \n",
      "2             1.0         Urban           Y  \n",
      "3             1.0         Urban           Y  \n",
      "4             1.0         Urban           Y  \n"
     ]
    }
   ],
   "source": [
    "import pandas as pd\n",
    "import numpy as np\n",
    "import matplotlib.pyplot as plt\n",
    "import seaborn as sns\n",
    "\n",
    "# Bài 1: Đọc dữ liệu\n",
    "\n",
    "data = pd.read_csv('./loan_data.csv')\n",
    "print(data.head())\n"
   ]
  },
  {
   "cell_type": "code",
   "execution_count": 25,
   "metadata": {},
   "outputs": [
    {
     "name": "stdout",
     "output_type": "stream",
     "text": [
      "5 dòng dữ liệu đầu tiên\n"
     ]
    },
    {
     "data": {
      "text/html": [
       "<div>\n",
       "<style scoped>\n",
       "    .dataframe tbody tr th:only-of-type {\n",
       "        vertical-align: middle;\n",
       "    }\n",
       "\n",
       "    .dataframe tbody tr th {\n",
       "        vertical-align: top;\n",
       "    }\n",
       "\n",
       "    .dataframe thead th {\n",
       "        text-align: right;\n",
       "    }\n",
       "</style>\n",
       "<table border=\"1\" class=\"dataframe\">\n",
       "  <thead>\n",
       "    <tr style=\"text-align: right;\">\n",
       "      <th></th>\n",
       "      <th>Loan_ID</th>\n",
       "      <th>Gender</th>\n",
       "      <th>Married</th>\n",
       "      <th>Dependents</th>\n",
       "      <th>Education</th>\n",
       "      <th>Self_Employed</th>\n",
       "      <th>ApplicantIncome</th>\n",
       "      <th>CoapplicantIncome</th>\n",
       "      <th>LoanAmount</th>\n",
       "      <th>Loan_Amount_Term</th>\n",
       "      <th>Credit_History</th>\n",
       "      <th>Property_Area</th>\n",
       "      <th>Loan_Status</th>\n",
       "    </tr>\n",
       "  </thead>\n",
       "  <tbody>\n",
       "    <tr>\n",
       "      <th>0</th>\n",
       "      <td>LP001003</td>\n",
       "      <td>Male</td>\n",
       "      <td>Yes</td>\n",
       "      <td>1</td>\n",
       "      <td>Graduate</td>\n",
       "      <td>No</td>\n",
       "      <td>4583</td>\n",
       "      <td>1508.0</td>\n",
       "      <td>128.0</td>\n",
       "      <td>360.0</td>\n",
       "      <td>1.0</td>\n",
       "      <td>Rural</td>\n",
       "      <td>N</td>\n",
       "    </tr>\n",
       "    <tr>\n",
       "      <th>1</th>\n",
       "      <td>LP001005</td>\n",
       "      <td>Male</td>\n",
       "      <td>Yes</td>\n",
       "      <td>0</td>\n",
       "      <td>Graduate</td>\n",
       "      <td>Yes</td>\n",
       "      <td>3000</td>\n",
       "      <td>0.0</td>\n",
       "      <td>66.0</td>\n",
       "      <td>360.0</td>\n",
       "      <td>1.0</td>\n",
       "      <td>Urban</td>\n",
       "      <td>Y</td>\n",
       "    </tr>\n",
       "    <tr>\n",
       "      <th>2</th>\n",
       "      <td>LP001006</td>\n",
       "      <td>Male</td>\n",
       "      <td>Yes</td>\n",
       "      <td>0</td>\n",
       "      <td>Not Graduate</td>\n",
       "      <td>No</td>\n",
       "      <td>2583</td>\n",
       "      <td>2358.0</td>\n",
       "      <td>120.0</td>\n",
       "      <td>360.0</td>\n",
       "      <td>1.0</td>\n",
       "      <td>Urban</td>\n",
       "      <td>Y</td>\n",
       "    </tr>\n",
       "    <tr>\n",
       "      <th>3</th>\n",
       "      <td>LP001008</td>\n",
       "      <td>Male</td>\n",
       "      <td>No</td>\n",
       "      <td>0</td>\n",
       "      <td>Graduate</td>\n",
       "      <td>No</td>\n",
       "      <td>6000</td>\n",
       "      <td>0.0</td>\n",
       "      <td>141.0</td>\n",
       "      <td>360.0</td>\n",
       "      <td>1.0</td>\n",
       "      <td>Urban</td>\n",
       "      <td>Y</td>\n",
       "    </tr>\n",
       "    <tr>\n",
       "      <th>4</th>\n",
       "      <td>LP001013</td>\n",
       "      <td>Male</td>\n",
       "      <td>Yes</td>\n",
       "      <td>0</td>\n",
       "      <td>Not Graduate</td>\n",
       "      <td>No</td>\n",
       "      <td>2333</td>\n",
       "      <td>1516.0</td>\n",
       "      <td>95.0</td>\n",
       "      <td>360.0</td>\n",
       "      <td>1.0</td>\n",
       "      <td>Urban</td>\n",
       "      <td>Y</td>\n",
       "    </tr>\n",
       "  </tbody>\n",
       "</table>\n",
       "</div>"
      ],
      "text/plain": [
       "    Loan_ID Gender Married Dependents     Education Self_Employed  \\\n",
       "0  LP001003   Male     Yes          1      Graduate            No   \n",
       "1  LP001005   Male     Yes          0      Graduate           Yes   \n",
       "2  LP001006   Male     Yes          0  Not Graduate            No   \n",
       "3  LP001008   Male      No          0      Graduate            No   \n",
       "4  LP001013   Male     Yes          0  Not Graduate            No   \n",
       "\n",
       "   ApplicantIncome  CoapplicantIncome  LoanAmount  Loan_Amount_Term  \\\n",
       "0             4583             1508.0       128.0             360.0   \n",
       "1             3000                0.0        66.0             360.0   \n",
       "2             2583             2358.0       120.0             360.0   \n",
       "3             6000                0.0       141.0             360.0   \n",
       "4             2333             1516.0        95.0             360.0   \n",
       "\n",
       "   Credit_History Property_Area Loan_Status  \n",
       "0             1.0         Rural           N  \n",
       "1             1.0         Urban           Y  \n",
       "2             1.0         Urban           Y  \n",
       "3             1.0         Urban           Y  \n",
       "4             1.0         Urban           Y  "
      ]
     },
     "execution_count": 25,
     "metadata": {},
     "output_type": "execute_result"
    }
   ],
   "source": [
    "# Bài 2: Hiển thị 5 dòng dữ liệu đầu tiên\n",
    "print(\"5 dòng dữ liệu đầu tiên\")\n",
    "data.head(5)"
   ]
  },
  {
   "cell_type": "code",
   "execution_count": 26,
   "metadata": {},
   "outputs": [
    {
     "name": "stdout",
     "output_type": "stream",
     "text": [
      "Có 381 dòng và 13 cột\n"
     ]
    }
   ],
   "source": [
    "# Bài 3: Kích thước dữ liệu\n",
    "print(\"Có\", data.shape[0], \"dòng và\", data.shape[1], \"cột\")"
   ]
  },
  {
   "cell_type": "code",
   "execution_count": 27,
   "metadata": {},
   "outputs": [
    {
     "name": "stdout",
     "output_type": "stream",
     "text": [
      "Thông tin các cột\n",
      "<class 'pandas.core.frame.DataFrame'>\n",
      "RangeIndex: 381 entries, 0 to 380\n",
      "Data columns (total 13 columns):\n",
      " #   Column             Non-Null Count  Dtype  \n",
      "---  ------             --------------  -----  \n",
      " 0   Loan_ID            381 non-null    object \n",
      " 1   Gender             376 non-null    object \n",
      " 2   Married            381 non-null    object \n",
      " 3   Dependents         373 non-null    object \n",
      " 4   Education          381 non-null    object \n",
      " 5   Self_Employed      360 non-null    object \n",
      " 6   ApplicantIncome    381 non-null    int64  \n",
      " 7   CoapplicantIncome  381 non-null    float64\n",
      " 8   LoanAmount         381 non-null    float64\n",
      " 9   Loan_Amount_Term   370 non-null    float64\n",
      " 10  Credit_History     351 non-null    float64\n",
      " 11  Property_Area      381 non-null    object \n",
      " 12  Loan_Status        381 non-null    object \n",
      "dtypes: float64(4), int64(1), object(8)\n",
      "memory usage: 38.8+ KB\n",
      "None\n"
     ]
    }
   ],
   "source": [
    "# Bài 4: Hiển thị thônng tin các cột\n",
    "print(\"Thông tin các cột\")\n",
    "print(data.info())"
   ]
  },
  {
   "cell_type": "code",
   "execution_count": 28,
   "metadata": {},
   "outputs": [
    {
     "name": "stdout",
     "output_type": "stream",
     "text": [
      "Kiểm tra giá trị null\n",
      "Loan_ID               0\n",
      "Gender                5\n",
      "Married               0\n",
      "Dependents            8\n",
      "Education             0\n",
      "Self_Employed        21\n",
      "ApplicantIncome       0\n",
      "CoapplicantIncome     0\n",
      "LoanAmount            0\n",
      "Loan_Amount_Term     11\n",
      "Credit_History       30\n",
      "Property_Area         0\n",
      "Loan_Status           0\n",
      "dtype: int64\n"
     ]
    },
    {
     "name": "stderr",
     "output_type": "stream",
     "text": [
      "C:\\Users\\TranNgocPhat\\AppData\\Local\\Temp\\ipykernel_18204\\3219198076.py:8: FutureWarning: A value is trying to be set on a copy of a DataFrame or Series through chained assignment using an inplace method.\n",
      "The behavior will change in pandas 3.0. This inplace method will never work because the intermediate object on which we are setting values always behaves as a copy.\n",
      "\n",
      "For example, when doing 'df[col].method(value, inplace=True)', try using 'df.method({col: value}, inplace=True)' or df[col] = df[col].method(value) instead, to perform the operation inplace on the original object.\n",
      "\n",
      "\n",
      "  data[col].fillna(data[col].mode()[0], inplace=True)\n",
      "C:\\Users\\TranNgocPhat\\AppData\\Local\\Temp\\ipykernel_18204\\3219198076.py:10: FutureWarning: A value is trying to be set on a copy of a DataFrame or Series through chained assignment using an inplace method.\n",
      "The behavior will change in pandas 3.0. This inplace method will never work because the intermediate object on which we are setting values always behaves as a copy.\n",
      "\n",
      "For example, when doing 'df[col].method(value, inplace=True)', try using 'df.method({col: value}, inplace=True)' or df[col] = df[col].method(value) instead, to perform the operation inplace on the original object.\n",
      "\n",
      "\n",
      "  data[col].fillna(data[col].mean(), inplace=True)\n"
     ]
    }
   ],
   "source": [
    "# Bài 5: Kiểm tra giá trị null và xử lý null\n",
    "print(\"Kiểm tra giá trị null\")\n",
    "print(data.isnull().sum())\n",
    "\n",
    "for col in data.columns:\n",
    "    if data[col].isnull().sum() > 0:\n",
    "        if data[col].dtype == 'object':\n",
    "            data[col].fillna(data[col].mode()[0], inplace=True)\n",
    "        else:\n",
    "            data[col].fillna(data[col].mean(), inplace=True)\n",
    "\n",
    "check_null = data.isnull().sum()"
   ]
  },
  {
   "cell_type": "code",
   "execution_count": 29,
   "metadata": {},
   "outputs": [
    {
     "name": "stdout",
     "output_type": "stream",
     "text": [
      "Mô tả dữ liệu\n",
      "       ApplicantIncome  CoapplicantIncome  LoanAmount  Loan_Amount_Term  \\\n",
      "count       381.000000         381.000000  381.000000        381.000000   \n",
      "mean       3579.845144        1277.275381  104.986877        340.864865   \n",
      "std        1419.813818        2340.818114   28.358464         67.549811   \n",
      "min         150.000000           0.000000    9.000000         12.000000   \n",
      "25%        2600.000000           0.000000   90.000000        360.000000   \n",
      "50%        3333.000000         983.000000  110.000000        360.000000   \n",
      "75%        4288.000000        2016.000000  127.000000        360.000000   \n",
      "max        9703.000000       33837.000000  150.000000        480.000000   \n",
      "\n",
      "       Credit_History  \n",
      "count      381.000000  \n",
      "mean         0.837607  \n",
      "std          0.354459  \n",
      "min          0.000000  \n",
      "25%          1.000000  \n",
      "50%          1.000000  \n",
      "75%          1.000000  \n",
      "max          1.000000  \n",
      "         Loan_ID Gender Married Dependents Education Self_Employed  \\\n",
      "count        381    381     381        381       381           381   \n",
      "unique       381      2       2          4         2             2   \n",
      "top     LP001003   Male     Yes          0  Graduate            No   \n",
      "freq           1    296     228        242       278           346   \n",
      "\n",
      "       Property_Area Loan_Status  \n",
      "count            381         381  \n",
      "unique             3           2  \n",
      "top        Semiurban           Y  \n",
      "freq             149         271  \n"
     ]
    }
   ],
   "source": [
    "# Bài 6: Mô tả dữ liệu dùng các thống kê mô tả\n",
    "\n",
    "print(\"Mô tả dữ liệu\")\n",
    "print(data.describe())\n",
    "print(data.describe(include='object'))\n",
    "\n"
   ]
  },
  {
   "cell_type": "markdown",
   "metadata": {},
   "source": [
    "Dữ liệu đã cho chứa thông tin về các khoản vay với tổng cộng 381 dòng và 13 cột.\n",
    "* Thuộc tính số:\n",
    "- ApplicantIncome(Thu nhập của người vay):\n",
    "Trung bình: 3.579,85,\n",
    "Độ lệch chuẩn: 1.419,81,\n",
    "Giá trị nhỏ nhất: 150,\n",
    "Giá trị lớn nhất: 9.703\n",
    "- CoapplicantIncome(Thu nhập của người đồng vay):\n",
    "Trung bình: 1.277,28,\n",
    "Độ lệch chuẩn: 2.340,82,\n",
    "Giá trị nhỏ nhất: 0,\n",
    "Giá trị lớn nhất: 33.837\n",
    "- LoanAmount(Số tiền vay):\n",
    "Trung bình: 104,99,\n",
    "Độ lệch chuẩn: 28,36,\n",
    "Giá trị nhỏ nhất: 9,\n",
    "Giá trị lớn nhất: 150\n",
    "- Loan_Amount_Term(Kỳ hạn vay):\n",
    "Trung bình: 340,86,\n",
    "Độ lệch chuẩn: 68,55,\n",
    "Giá trị nhỏ nhất: 12,\n",
    "Giá trị lớn nhất: 480"
   ]
  },
  {
   "cell_type": "markdown",
   "metadata": {},
   "source": [
    "* Thuộc tính phân loại:\n",
    "- Credit_History(Lịch sử tín dụng): Trung bình: 0,84, Độ lệch chuẩn: 0,37 và Khoản vay chưa được chấp thuận (0) và được chấp thuận ()\n",
    "\n",
    "\n",
    "\n",
    "=> Nhận xét: Thu nhập trung bình của người vay và người đồng vay lần lượt là 3.579,85 và 1.277,28.\n",
    "Số tiền vay trung bình là 104,99 với kỳ hạn vay trung bình là 340,86 tháng.\n",
    "Hầu hết người vay (84%) có lịch sử tín dụng tốt (tín dụng = 1)."
   ]
  },
  {
   "cell_type": "code",
   "execution_count": 34,
   "metadata": {},
   "outputs": [
    {
     "data": {
      "text/plain": [
       "<Axes: xlabel='Dependents'>"
      ]
     },
     "execution_count": 34,
     "metadata": {},
     "output_type": "execute_result"
    },
    {
     "data": {
      "image/png": "[encoded data removed]",
      "text/plain": [
       "<Figure size 640x480 with 1 Axes>"
      ]
     },
     "metadata": {},
     "output_type": "display_data"
    }
   ],
   "source": [
    "data['Dependents'].value_counts().plot(kind='bar')"
   ]
  },
  {
   "cell_type": "markdown",
   "metadata": {},
   "source": [
    "Biểu đồ trên cho thấy phân bố số lượng người phụ thuộc của người vay trong một tập dữ liệu cụ thể. Dữ liệu được chia thành các nhóm theo số lượng người phụ thuộc, từ 0 đến 3+ (ba người phụ thuộc trở lên).\n",
    "\n",
    "Đa số người vay không có người phụ thuộc. Nhóm \"0\" có tần suất cao nhất, cho thấy phần lớn người vay trong tập dữ liệu này không có người phụ thuộc.\n",
    "\n",
    "Số lượng người vay có một hoặc hai người phụ thuộc là khá phổ biến. Nhóm \"1\" và \"2\" có tần suất cao thứ hai và thứ ba, cho thấy việc có một hoặc hai người phụ thuộc là tương đối phổ biến trong nhóm người vay.\n",
    "\n",
    "Số lượng người vay có ba người phụ thuộc trở lên là ít nhất. Nhóm \"3+\" có tần suất thấp nhất, cho thấy việc có ba người phụ thuộc trở lên là ít phổ biến hơn so với các nhóm khác."
   ]
  }
 ],
 "metadata": {
  "kernelspec": {
   "display_name": "Python 3",
   "language": "python",
   "name": "python3"
  },
  "language_info": {
   "codemirror_mode": {
    "name": "ipython",
    "version": 3
   },
   "file_extension": ".py",
   "mimetype": "text/x-python",
   "name": "python",
   "nbconvert_exporter": "python",
   "pygments_lexer": "ipython3",
   "version": "3.12.1"
  }
 },
 "nbformat": 4,
 "nbformat_minor": 2
}
