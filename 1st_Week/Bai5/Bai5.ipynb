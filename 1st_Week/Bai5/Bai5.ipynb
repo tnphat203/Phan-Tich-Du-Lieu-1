{
 "cells": [
  {
   "cell_type": "code",
   "execution_count": 8,
   "metadata": {},
   "outputs": [
    {
     "name": "stdout",
     "output_type": "stream",
     "text": [
      "[[1 2 3]\n",
      " [4 5 6]\n",
      " [7 8 9]]\n"
     ]
    }
   ],
   "source": [
    "# Khai báo một mảng numpy hai chiều A mô tả ma trận:\n",
    "import numpy as np\n",
    "\n",
    "a = np.array([[1, 2, 3], [4, 5, 6], [7, 8, 9]])\n",
    "print(a)"
   ]
  },
  {
   "cell_type": "code",
   "execution_count": 9,
   "metadata": {},
   "outputs": [
    {
     "data": {
      "text/plain": [
       "array([[0, 0, 0, 0, 0, 0],\n",
       "       [1, 0, 0, 0, 0, 0],\n",
       "       [0, 2, 0, 0, 0, 0],\n",
       "       [0, 0, 3, 0, 0, 0],\n",
       "       [0, 0, 0, 4, 0, 0],\n",
       "       [0, 0, 0, 0, 5, 0]])"
      ]
     },
     "execution_count": 9,
     "metadata": {},
     "output_type": "execute_result"
    }
   ],
   "source": [
    "# Với một số tự nhiên n, \n",
    "# hãy viết hàm trả về ma trận có dạng đường chéo phụ ngay dưới đường chéo chính nhận các giá trị từ 1 đến n. \n",
    "# Các thành phần là kiểu số nguyên.\n",
    "import numpy as np\n",
    "n = 5 \n",
    "np.diag([x for x in range(1, n+1)], k=-1)"
   ]
  },
  {
   "cell_type": "code",
   "execution_count": 13,
   "metadata": {},
   "outputs": [
    {
     "name": "stdout",
     "output_type": "stream",
     "text": [
      "36\n"
     ]
    }
   ],
   "source": [
    "# Cho một ma trận A, \n",
    "# viết hàm myfunc tính tổng các phần tử trên các cột có chỉ số chẵn (0, 2, 4, ...) của ma trận đó. \n",
    "import numpy as np\n",
    "A = np.array([[1, 2, 10], [3, 5, 6], [7, 8, 9]])\n",
    "def myfunc(A):\n",
    "    kt = A.shape[1]\n",
    "    s = 0\n",
    "    for i in range(0, kt, 2):\n",
    "        s += np.sum(A[:, i])\n",
    "    return s\n",
    "print(myfunc(A))"
   ]
  },
  {
   "cell_type": "code",
   "execution_count": 18,
   "metadata": {},
   "outputs": [
    {
     "name": "stdout",
     "output_type": "stream",
     "text": [
      "[[ 1  2 10]\n",
      " [ 3  5  6]\n",
      " [ 7  8  9]]\n",
      "27\n"
     ]
    }
   ],
   "source": [
    "# Viết hàm myfunc tính tổng tất cả các phần tử có cả hai chỉ số đều chẵn của một ma trận A bất kỳ.\n",
    "\n",
    "import numpy as np\n",
    "A = np.array([[1, 2, 10], [3, 5, 6], [7, 8, 9]])\n",
    "\n",
    "def myfunc(A):\n",
    "    kt = A.shape[1]\n",
    "    s = 0\n",
    "    for i in range(0, kt, 2):\n",
    "        for j in range(0, kt, 2):\n",
    "            s += np.sum(A[j, i])\n",
    "    return s\n",
    "print(A)\n",
    "print(myfunc(A))\n"
   ]
  },
  {
   "cell_type": "code",
   "execution_count": 19,
   "metadata": {},
   "outputs": [
    {
     "name": "stdout",
     "output_type": "stream",
     "text": [
      "14\n"
     ]
    }
   ],
   "source": [
    "# Cho một ma trận A bất kỳ. \n",
    "# Trong mỗi hàng, ta định nghĩa độ biến động của nó là \n",
    "# sự khác nhau giữa giá trị lớn nhất và nhỏ nhất của các phần tử trong hàng đó. \n",
    "# Hãy viết hàm myfunc trả về tổng độ biến động của tất cả các hàng trong ma trận đó.\n",
    "# Ví dụ với ma trận A trong bài học, độ biến động của mỗi hàng lần lượt là 2.0, 4.0, 3.0. Vậy myfunc(A) = 9.0.\n",
    "\n",
    "import numpy as np\n",
    "A = np.array([[1, 2, 10], [3, 5, 6], [7, 8, 9]])\n",
    "\n",
    "def myfunc(A):\n",
    "    s = 0\n",
    "    for i in range(A.shape[0]):\n",
    "        s += np.max(A[i]) - np.min(A[i])\n",
    "    return s\n",
    "print(myfunc(A))"
   ]
  },
  {
   "cell_type": "code",
   "execution_count": 21,
   "metadata": {},
   "outputs": [
    {
     "name": "stdout",
     "output_type": "stream",
     "text": [
      "6.244997998398398\n"
     ]
    }
   ],
   "source": [
    "# Frobenius norm của một ma trận được định nghĩa là căn bậc hai của tổng bình phương các phần tử của ma trận. \n",
    "# Frobenius norm được sử dụng rất nhiều trong các thuật toán Machine Learning vì các tính chất toán học đẹp \n",
    "# của nó, trong đó quan trọng nhất là việc đạo hàm của bình phương của nó rất đơn giản.\n",
    "# Frobenius norm của một ma trận \n",
    "\n",
    "import numpy as np\n",
    "A = np.array([[1, 2, 10], [3, 5, 6], [7, 8, 9]])\n",
    "def myfunc(A):\n",
    "    s = 0\n",
    "    for i in range(A.shape[0]):\n",
    "        for j in range(A.shape[0]):\n",
    "            s += A[i, j]**2\n",
    "    return np.sqrt(s)\n",
    "print(myfunc(B))\n",
    "\n"
   ]
  }
 ],
 "metadata": {
  "kernelspec": {
   "display_name": "Python 3",
   "language": "python",
   "name": "python3"
  },
  "language_info": {
   "codemirror_mode": {
    "name": "ipython",
    "version": 3
   },
   "file_extension": ".py",
   "mimetype": "text/x-python",
   "name": "python",
   "nbconvert_exporter": "python",
   "pygments_lexer": "ipython3",
   "version": "3.12.1"
  }
 },
 "nbformat": 4,
 "nbformat_minor": 2
}
