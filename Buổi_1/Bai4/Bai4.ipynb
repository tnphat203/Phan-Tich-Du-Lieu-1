{
 "cells": [
  {
   "cell_type": "code",
   "execution_count": 1,
   "metadata": {},
   "outputs": [
    {
     "name": "stdout",
     "output_type": "stream",
     "text": [
      "[1, 2, 3, 4, 5, 6, 7, 8, 9, 10]\n"
     ]
    }
   ],
   "source": [
    "# TODO: Khởi tạo một vector x = [1, 2, 3, 4, 5, 6, 7, 8, 9, 10] mà không sử dụng bất kỳ hàm nào của Python\n",
    "x = []\n",
    "for i in range(1, 11):\n",
    "    x.append(i)\n",
    "\n",
    "# -- end TODO --\n",
    "\n",
    "# Kiểm tra xem x có chứa các phần tử đúng không\n",
    "print(x)"
   ]
  },
  {
   "cell_type": "code",
   "execution_count": 2,
   "metadata": {},
   "outputs": [
    {
     "name": "stdout",
     "output_type": "stream",
     "text": [
      "[1, 2, 4, 8, 16, 32, 64, 128, 256, 512, 1024]\n"
     ]
    }
   ],
   "source": [
    "# Xây dựng mảng các luỹ thừa của 2 nhỏ hơn 1025, bao gồm cả 1 = 2**0. \n",
    "list = []\n",
    "kq = 1\n",
    "while(kq<1025):\n",
    "    list.append(kq)\n",
    "    kq = kq*2\n",
    "print(list)"
   ]
  },
  {
   "cell_type": "code",
   "execution_count": 3,
   "metadata": {},
   "outputs": [
    {
     "name": "stdout",
     "output_type": "stream",
     "text": [
      "[3, 3, 3, 3, 3, 3, 3, 3, 3, 1.5]\n"
     ]
    }
   ],
   "source": [
    "# Xây dựng mảng gồm 10 phần tử, trong đó 9 phần tử đầu bằng 3, phần tử cuối cùng bằng 1.5.\n",
    "list = []\n",
    "for i in range(10):\n",
    "    if(i==9):\n",
    "        list.append(1.5)\n",
    "    else:\n",
    "        list.append(3)\n",
    "print(list)"
   ]
  },
  {
   "cell_type": "code",
   "execution_count": 4,
   "metadata": {},
   "outputs": [
    {
     "name": "stdout",
     "output_type": "stream",
     "text": [
      "[5.5, 5.5, 5.5, 5.5, 5.5, 5.5, 5.5, 5.5, 5.5, 5.5]\n"
     ]
    }
   ],
   "source": [
    "# Thay toàn bộ các phần tử của mảng bằng trung bình cộng các phần tử trong mảng đó, \n",
    "# sử dụng vòng for. Hàm này không trả về biến nào mà chỉ thay đổi các giá trị của biến đầu vào x.\n",
    "list = [1,2,3,4,5,6,7,8,9,10]\n",
    "sum_list = sum(list)\n",
    "avg = sum_list/len(list)\n",
    "for i in range(len(list)):\n",
    "    list[i] = avg\n",
    "print(list)"
   ]
  },
  {
   "cell_type": "code",
   "execution_count": 5,
   "metadata": {},
   "outputs": [
    {
     "name": "stdout",
     "output_type": "stream",
     "text": [
      "[2.0, -1, -1.0, -1, 0.5, -1, -0.25, -1, 0.125, -1, -0.0625, -1, 0.03125, -1, -0.015625, -1, 0.0078125, -1, -0.00390625, -1]\n"
     ]
    }
   ],
   "source": [
    "# Cho trước một số tự nhiên n. Tạo một mảng có n phần tử mà các phần tử có chỉ số chẵn (bắt đầu từ 0) \n",
    "# là một cấp số cộng bắt đầu từ 2, công sai bằng -0.5; các phần tử có chỉ số lẻ bằng -1.\n",
    "n = 20\n",
    "kq = [-1]*n\n",
    "for i in range(0,n,2):\n",
    "    kq[i] = 2* (-0.5)**(i/2)\n",
    "print(kq)"
   ]
  },
  {
   "cell_type": "code",
   "execution_count": 9,
   "metadata": {},
   "outputs": [
    {
     "name": "stdout",
     "output_type": "stream",
     "text": [
      "-2.8286361176739168\n"
     ]
    }
   ],
   "source": [
    "# Cho một mảng 1 chiều x, tính mảng y và z sao cho y[i] = pi/2 - x[i] và z[i] = cos(x[i]) - sin(x[i]).\n",
    "# Sau đó trả về tổng các phần tử của z\n",
    "\n",
    "import math\n",
    "\n",
    "x = [1, 2, 3, 4, 5, 6, 7, 8, 9, 10]\n",
    "\n",
    "y = [math.pi/2 - i for i in x]  \n",
    "\n",
    "z = [math.cos(i) - math.sin(i) for i in x]\n",
    "\n",
    "sum_z = sum(z)\n",
    "print(sum_z)"
   ]
  },
  {
   "cell_type": "code",
   "execution_count": 11,
   "metadata": {},
   "outputs": [
    {
     "name": "stdout",
     "output_type": "stream",
     "text": [
      "45\n"
     ]
    }
   ],
   "source": [
    "# Viết hàm số tính tổng trị tuyệt đối các phần tử của một mảng một chiều.\n",
    "list = [1,2,3,4,-5,6,7,-8,9]\n",
    "sum_abs = sum([abs(i) for i in list])\n",
    "print(sum_abs)"
   ]
  },
  {
   "cell_type": "code",
   "execution_count": 12,
   "metadata": {},
   "outputs": [
    {
     "name": "stdout",
     "output_type": "stream",
     "text": [
      "[0.02364054 0.06426166 0.1746813  0.474833   0.02364054 0.06426166\n",
      " 0.1746813 ]\n"
     ]
    }
   ],
   "source": [
    "# Bài tập: Hãy lập trình hàm softmax.\n",
    "import numpy as np\n",
    "\n",
    "x = np.array([1, 2, 3, 4, 1, 2, 3])\n",
    "\n",
    "exp_x = np.exp(x)\n",
    "sum_exp_x = sum(exp_x)\n",
    "softmax = exp_x/sum_exp_x\n",
    "print(softmax)"
   ]
  }
 ],
 "metadata": {
  "kernelspec": {
   "display_name": "Python 3",
   "language": "python",
   "name": "python3"
  },
  "language_info": {
   "codemirror_mode": {
    "name": "ipython",
    "version": 3
   },
   "file_extension": ".py",
   "mimetype": "text/x-python",
   "name": "python",
   "nbconvert_exporter": "python",
   "pygments_lexer": "ipython3",
   "version": "3.12.1"
  }
 },
 "nbformat": 4,
 "nbformat_minor": 2
}
