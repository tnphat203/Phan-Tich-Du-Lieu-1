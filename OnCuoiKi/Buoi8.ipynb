{
 "cells": [
  {
   "cell_type": "code",
   "execution_count": 1,
   "metadata": {},
   "outputs": [
    {
     "name": "stderr",
     "output_type": "stream",
     "text": [
      "C:\\Users\\TranNgocPhat\\AppData\\Local\\Temp\\ipykernel_12432\\555797462.py:1: DeprecationWarning: \n",
      "Pyarrow will become a required dependency of pandas in the next major release of pandas (pandas 3.0),\n",
      "(to allow more performant data types, such as the Arrow string type, and better interoperability with other libraries)\n",
      "but was not found to be installed on your system.\n",
      "If this would cause problems for you,\n",
      "please provide us feedback at https://github.com/pandas-dev/pandas/issues/54466\n",
      "        \n",
      "  import pandas as pd\n"
     ]
    }
   ],
   "source": [
    "import pandas as pd\n",
    "import numpy as np\n",
    "import matplotlib.pyplot as plt\n",
    "import seaborn as sns"
   ]
  },
  {
   "cell_type": "markdown",
   "metadata": {},
   "source": [
    "Bài tập ôn thi\n",
    "1.\tTạo 1 mảng dữ liệu ngẫu nhiên gồm 100 mẫu và 2 đặc trưng\n",
    "2.\tScatter, quan sát và quyết định số cụm \n",
    "3.\tDùng kmean để phân cụm với số cụm như câu 2\n",
    "4.\tTrực quan với mỗi cụm mỗi màu khác nhau, đánh dấu các điểm trung tâm của các cụm\n",
    "5.\tTạo ngẫu nhiên 1 mảng dữ liệu gồm 5 mẫu và 2 đặng trưng, dùng kmean và dữ liệu đã được huấn luyện trên để xác định mỗi mẫu thuộc cụm nào"
   ]
  },
  {
   "cell_type": "code",
   "execution_count": 2,
   "metadata": {},
   "outputs": [
    {
     "name": "stdout",
     "output_type": "stream",
     "text": [
      "[[0.34067716 0.62955882]\n",
      " [0.28729421 0.04537188]\n",
      " [0.96389132 0.39668332]\n",
      " [0.15992595 0.16284969]\n",
      " [0.52700946 0.10877163]\n",
      " [0.21518529 0.11933043]\n",
      " [0.56042148 0.08885263]\n",
      " [0.32243459 0.14295009]\n",
      " [0.59785012 0.39973926]\n",
      " [0.04346483 0.02715172]\n",
      " [0.22687662 0.41158508]\n",
      " [0.46249752 0.25510052]\n",
      " [0.64533491 0.7006765 ]\n",
      " [0.20489206 0.04373113]\n",
      " [0.66694891 0.26573809]\n",
      " [0.66140615 0.32595545]\n",
      " [0.25358219 0.85017128]\n",
      " [0.04374537 0.10619793]\n",
      " [0.39571162 0.1369334 ]\n",
      " [0.67553565 0.86074389]\n",
      " [0.29533485 0.8347994 ]\n",
      " [0.12636865 0.34948866]\n",
      " [0.10630862 0.52812337]\n",
      " [0.11853425 0.90960235]\n",
      " [0.95821082 0.63063739]\n",
      " [0.33750737 0.91699778]\n",
      " [0.74139352 0.02396634]\n",
      " [0.70748749 0.05804599]\n",
      " [0.12937854 0.44012054]\n",
      " [0.91903047 0.36168886]\n",
      " [0.45863111 0.49870307]\n",
      " [0.47770878 0.35674563]\n",
      " [0.85255647 0.92442305]\n",
      " [0.21773681 0.58136781]\n",
      " [0.70106382 0.01229677]\n",
      " [0.2756648  0.6429046 ]\n",
      " [0.80095464 0.51666719]\n",
      " [0.8667286  0.46149722]\n",
      " [0.01254556 0.68850542]\n",
      " [0.60644877 0.94059607]\n",
      " [0.09315157 0.98770375]\n",
      " [0.94104381 0.20450031]\n",
      " [0.90451677 0.91398895]\n",
      " [0.41928086 0.64182958]\n",
      " [0.19543417 0.3199613 ]\n",
      " [0.17020404 0.35452692]\n",
      " [0.02786303 0.15848094]\n",
      " [0.33780596 0.92363562]\n",
      " [0.61567144 0.33109586]\n",
      " [0.35960662 0.7800098 ]\n",
      " [0.41724545 0.56022073]\n",
      " [0.4413277  0.11949205]\n",
      " [0.28524557 0.21760484]\n",
      " [0.30222399 0.39720405]\n",
      " [0.36638618 0.88618359]\n",
      " [0.25547353 0.0381158 ]\n",
      " [0.07392871 0.73766157]\n",
      " [0.31611165 0.60165723]\n",
      " [0.31923739 0.24753505]\n",
      " [0.33130993 0.74710498]\n",
      " [0.48139095 0.55587872]\n",
      " [0.75620981 0.32152406]\n",
      " [0.40821323 0.33117699]\n",
      " [0.56769284 0.25842332]\n",
      " [0.87453157 0.33758463]\n",
      " [0.70397892 0.00192051]\n",
      " [0.13906671 0.88407467]\n",
      " [0.76587835 0.32771985]\n",
      " [0.84195379 0.34900673]\n",
      " [0.01800112 0.92847037]\n",
      " [0.2037301  0.61966437]\n",
      " [0.27650718 0.94858189]\n",
      " [0.48706234 0.3927141 ]\n",
      " [0.47756532 0.32597157]\n",
      " [0.55427058 0.68060164]\n",
      " [0.85421939 0.49868828]\n",
      " [0.51737651 0.15040298]\n",
      " [0.60995888 0.91718097]\n",
      " [0.33947836 0.04019994]\n",
      " [0.76995313 0.29150337]\n",
      " [0.57498159 0.80423586]\n",
      " [0.96157781 0.62549964]\n",
      " [0.48304878 0.42096225]\n",
      " [0.1978417  0.62727019]\n",
      " [0.59927753 0.14093519]\n",
      " [0.49553046 0.64607445]\n",
      " [0.54696176 0.12646738]\n",
      " [0.55756551 0.54573683]\n",
      " [0.74424546 0.38456657]\n",
      " [0.57465917 0.80260788]\n",
      " [0.07276924 0.67869024]\n",
      " [0.22809431 0.57132492]\n",
      " [0.77313847 0.66585808]\n",
      " [0.26745332 0.89276166]\n",
      " [0.31904201 0.96096426]\n",
      " [0.39985979 0.50173886]\n",
      " [0.71734849 0.48947867]\n",
      " [0.78724606 0.28261387]\n",
      " [0.52488851 0.71973096]\n",
      " [0.32728165 0.87856548]]\n"
     ]
    },
    {
     "data": {
      "image/png": "[encoded data removed]",
      "text/plain": [
       "<Figure size 640x480 with 1 Axes>"
      ]
     },
     "metadata": {},
     "output_type": "display_data"
    }
   ],
   "source": [
    "#1\n",
    "data = np.random.rand(100, 2)\n",
    "print(data)\n",
    "#2\n",
    "\n",
    "plt.scatter(data[:, 0], data[:, 1])\n",
    "plt.show()\n"
   ]
  },
  {
   "cell_type": "code",
   "execution_count": null,
   "metadata": {},
   "outputs": [],
   "source": []
  }
 ],
 "metadata": {
  "kernelspec": {
   "display_name": "Python 3",
   "language": "python",
   "name": "python3"
  },
  "language_info": {
   "codemirror_mode": {
    "name": "ipython",
    "version": 3
   },
   "file_extension": ".py",
   "mimetype": "text/x-python",
   "name": "python",
   "nbconvert_exporter": "python",
   "pygments_lexer": "ipython3",
   "version": "3.12.1"
  }
 },
 "nbformat": 4,
 "nbformat_minor": 2
}
