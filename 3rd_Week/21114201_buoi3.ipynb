{
 "cells": [
  {
   "cell_type": "code",
   "execution_count": 1,
   "metadata": {},
   "outputs": [],
   "source": [
    "import numpy as np\n",
    "import random as rd\n",
    "import matplotlib.pyplot as plt\n",
    "from scipy.stats import norm"
   ]
  },
  {
   "cell_type": "markdown",
   "metadata": {},
   "source": [
    "Bài tập: Cho các số a, b, m, n trong đó a < b là hai số thực bất kỳ, m, n là các số nguyên dương. Viết hàm số tạo một mảng hai chiều có shape = (m, n), các phần tử là các số ngẫu nhiên phân bố đều trong nửa đoạn [a, b).."
   ]
  },
  {
   "cell_type": "code",
   "execution_count": 2,
   "metadata": {},
   "outputs": [
    {
     "name": "stdout",
     "output_type": "stream",
     "text": [
      "Mảng tuân theo phân phối chuẩn trong nửa đoạn [a, b)\n",
      "[[0.66081591 0.01719075 0.19914533 0.3958463 ]\n",
      " [0.02370199 0.17883622 0.91903802 0.79932722]\n",
      " [0.44536737 0.29523181 0.68160184 0.02061368]]\n"
     ]
    }
   ],
   "source": [
    "\n",
    "\n",
    "def Check(m, n, a, b):\n",
    "    matrix = np.random.uniform(low=a, high=b, size=(m, n))\n",
    "\n",
    "    mean = np.mean(matrix)\n",
    "    variance = np.var(matrix)\n",
    "    \n",
    "    if (a <= mean <= (a + b) / 2) and ((b - a)**2 / 2 <= variance <= (b - a)**2):\n",
    "        return matrix, \"Mảng không tuân theo phân phối chuẩn trong nửa đoạn [a, b)\"\n",
    "    else:\n",
    "        return matrix, \"Mảng tuân theo phân phối chuẩn trong nửa đoạn [a, b)\"\n",
    "    \n",
    "\n",
    "m = 3\n",
    "n = 4\n",
    "a = 0\n",
    "b = 1\n",
    "\n",
    "matrix, result = Check(m, n, a, b)\n",
    "print(result)\n",
    "print(matrix)\n"
   ]
  },
  {
   "cell_type": "markdown",
   "metadata": {},
   "source": [
    "Bài tập: Cho các số a, s, m, n với:\n",
    "\n",
    "• a là một số thực bất kỳ.\n",
    "\n",
    "• s là một số thực dương.\n",
    "\n",
    "• m, n là các số nguyên dương.\n",
    "\n",
    "Xây dựng một mảng ngẫu nhiên hai chiều có shape = (m, n) mà các phần tử của nó tuần theo phân phối chuẩn có kỳ vọng bằng a và phương sai là s.\n",
    "\n",
    "Chú ý: Ký hiệu N(μ, σ²) để chỉ một phân phối chuẩn có kỳ vọng µ và phương sai ơ². Một biến ngẫu nhiên X tuân theo phân phối chuẩn có kỳ vọng u, phương sai ở² sẽ được ký hiệu là X ~ N(μ, σ²).\n",
    "\n",
    "Nếu X ~ N(μ, σ²) thì: \n",
    "\n",
    "    • X + a~N(μ + a, σ²) với a là một số thực bất kỳ. \n",
    "\n",
    "    • KX ~ N (ku, k252) với k là một số thực bất kỳ."
   ]
  },
  {
   "cell_type": "code",
   "execution_count": 3,
   "metadata": {},
   "outputs": [
    {
     "data": {
      "text/plain": [
       "array([[4.36407319, 8.88452557, 2.34189705, 4.36308791],\n",
       "       [8.71763465, 1.72902952, 3.31138648, 3.52168021],\n",
       "       [4.89511555, 2.92816983, 2.30972518, 9.12254391]])"
      ]
     },
     "execution_count": 3,
     "metadata": {},
     "output_type": "execute_result"
    }
   ],
   "source": [
    "a = 5\n",
    "s = 10\n",
    "m = 3\n",
    "n = 4\n",
    "\n",
    "shape = (m, n)\n",
    "sample = norm.rvs(loc=a, scale=s**0.5, size=shape)\n",
    "sample"
   ]
  },
  {
   "cell_type": "markdown",
   "metadata": {},
   "source": [
    "Generate 5000 numbers from a uniform distribution, setting the parameters low to -3 and high to 3."
   ]
  },
  {
   "cell_type": "code",
   "execution_count": 4,
   "metadata": {},
   "outputs": [
    {
     "name": "stdout",
     "output_type": "stream",
     "text": [
      "[-1.96970939 -2.30098625  1.30173296 ...  0.84234268 -0.51733492\n",
      "  1.27545502]\n"
     ]
    }
   ],
   "source": [
    "\n",
    "\n",
    "A = np.array([rd.uniform(-3, 3) for i in range(5000)])\n",
    "print(A)"
   ]
  },
  {
   "cell_type": "markdown",
   "metadata": {},
   "source": [
    "Generate 5000 numbers from a normal distribution, setting the parameters loc to 5 and scale to 2."
   ]
  },
  {
   "cell_type": "code",
   "execution_count": 5,
   "metadata": {},
   "outputs": [
    {
     "name": "stdout",
     "output_type": "stream",
     "text": [
      "[ 6.08681151  7.15708304 11.00100999 ...  5.23648134  0.3758153\n",
      "  3.14236288]\n"
     ]
    }
   ],
   "source": [
    "B = np.random.normal(loc=5, scale=2, size=5000)\n",
    "print(B)"
   ]
  },
  {
   "cell_type": "markdown",
   "metadata": {},
   "source": [
    "Plot a histogram of uniforms with bins of width of 0.25 from 3 to 3 using plt.hist()."
   ]
  },
  {
   "cell_type": "code",
   "execution_count": 6,
   "metadata": {},
   "outputs": [
    {
     "data": {
      "image/png": "[encoded data removed]",
      "text/plain": [
       "<Figure size 640x480 with 1 Axes>"
      ]
     },
     "metadata": {},
     "output_type": "display_data"
    }
   ],
   "source": [
    "bin = np.arange(-3,3,0.25)\n",
    "plt.hist(A, bins=bin)\n",
    "plt.show()"
   ]
  },
  {
   "cell_type": "markdown",
   "metadata": {},
   "source": [
    "Plot a histogram of normals with bins of width of 0.5 from -2 to 13 using plt.hist()."
   ]
  },
  {
   "cell_type": "code",
   "execution_count": 7,
   "metadata": {},
   "outputs": [
    {
     "data": {
      "image/png": "[encoded data removed]",
      "text/plain": [
       "<Figure size 640x480 with 1 Axes>"
      ]
     },
     "metadata": {},
     "output_type": "display_data"
    }
   ],
   "source": [
    "bin = np.arange(-2,13,0.5)\n",
    "plt.hist(B, bins=bin)\n",
    "plt.show()"
   ]
  }
 ],
 "metadata": {
  "kernelspec": {
   "display_name": "Python 3",
   "language": "python",
   "name": "python3"
  },
  "language_info": {
   "codemirror_mode": {
    "name": "ipython",
    "version": 3
   },
   "file_extension": ".py",
   "mimetype": "text/x-python",
   "name": "python",
   "nbconvert_exporter": "python",
   "pygments_lexer": "ipython3",
   "version": "3.12.1"
  }
 },
 "nbformat": 4,
 "nbformat_minor": 2
}
