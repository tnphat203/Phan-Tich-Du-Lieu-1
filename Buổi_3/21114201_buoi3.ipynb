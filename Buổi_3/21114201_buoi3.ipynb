{
 "cells": [
  {
   "cell_type": "code",
   "execution_count": 3,
   "metadata": {},
   "outputs": [],
   "source": [
    "import numpy as np\n",
    "import random as rd\n",
    "import matplotlib.pyplot as plt\n",
    "from scipy.stats import norm"
   ]
  },
  {
   "cell_type": "markdown",
   "metadata": {},
   "source": [
    "Bài tập: Cho các số a, b, m, n trong đó a < b là hai số thực bất kỳ, m, n là các số nguyên dương. Viết hàm số tạo một mảng hai chiều có shape = (m, n), các phần tử là các số ngẫu nhiên phân bố đều trong nửa đoạn [a, b).."
   ]
  },
  {
   "cell_type": "code",
   "execution_count": 4,
   "metadata": {},
   "outputs": [
    {
     "name": "stdout",
     "output_type": "stream",
     "text": [
      "Mảng tuân theo phân phối chuẩn trong nửa đoạn [a, b)\n",
      "[[0.34685333 0.11588922 0.82903759 0.27881549]\n",
      " [0.80879877 0.06600047 0.46540587 0.60356074]\n",
      " [0.65883692 0.86087421 0.21757698 0.74902923]]\n"
     ]
    }
   ],
   "source": [
    "\n",
    "\n",
    "def Check(m, n, a, b):\n",
    "    matrix = np.random.uniform(low=a, high=b, size=(m, n))\n",
    "\n",
    "    mean = np.mean(matrix)\n",
    "    variance = np.var(matrix)\n",
    "    \n",
    "    if (a <= mean <= (a + b) / 2) and ((b - a)**2 / 2 <= variance <= (b - a)**2):\n",
    "        return matrix, \"Mảng không tuân theo phân phối chuẩn trong nửa đoạn [a, b)\"\n",
    "    else:\n",
    "        return matrix, \"Mảng tuân theo phân phối chuẩn trong nửa đoạn [a, b)\"\n",
    "    \n",
    "\n",
    "m = 3\n",
    "n = 4\n",
    "a = 0\n",
    "b = 1\n",
    "\n",
    "matrix, result = Check(m, n, a, b)\n",
    "print(result)\n",
    "print(matrix)\n"
   ]
  },
  {
   "cell_type": "markdown",
   "metadata": {},
   "source": [
    "Bài tập: Cho các số a, s, m, n với:\n",
    "\n",
    "• a là một số thực bất kỳ.\n",
    "\n",
    "• s là một số thực dương.\n",
    "\n",
    "• m, n là các số nguyên dương.\n",
    "\n",
    "Xây dựng một mảng ngẫu nhiên hai chiều có shape = (m, n) mà các phần tử của nó tuần theo phân phối chuẩn có kỳ vọng bằng a và phương sai là s.\n",
    "\n",
    "Chú ý: Ký hiệu N(μ, σ²) để chỉ một phân phối chuẩn có kỳ vọng µ và phương sai ơ². Một biến ngẫu nhiên X tuân theo phân phối chuẩn có kỳ vọng u, phương sai ở² sẽ được ký hiệu là X ~ N(μ, σ²).\n",
    "\n",
    "Nếu X ~ N(μ, σ²) thì: \n",
    "\n",
    "    • X + a~N(μ + a, σ²) với a là một số thực bất kỳ. \n",
    "\n",
    "    • KX ~ N (ku, k252) với k là một số thực bất kỳ."
   ]
  },
  {
   "cell_type": "code",
   "execution_count": 6,
   "metadata": {},
   "outputs": [
    {
     "data": {
      "text/plain": [
       "array([[ 4.12924272, -0.08898682,  4.62200075,  3.61381579],\n",
       "       [ 2.89047658,  3.56421649,  2.41653069,  7.30071668],\n",
       "       [ 0.27645121,  5.92031387,  3.52860566,  5.07816862]])"
      ]
     },
     "execution_count": 6,
     "metadata": {},
     "output_type": "execute_result"
    }
   ],
   "source": [
    "a = 5\n",
    "s = 10\n",
    "m = 3\n",
    "n = 4\n",
    "\n",
    "shape = (m, n)\n",
    "sample = norm.rvs(loc=a, scale=s**0.5, size=shape)\n",
    "sample"
   ]
  },
  {
   "cell_type": "markdown",
   "metadata": {},
   "source": [
    "Generate 5000 numbers from a uniform distribution, setting the parameters low to -3 and high to 3."
   ]
  },
  {
   "cell_type": "code",
   "execution_count": null,
   "metadata": {},
   "outputs": [
    {
     "name": "stdout",
     "output_type": "stream",
     "text": [
      "[ 0.8424003   2.30203621  2.15465387 ... -0.63041583 -1.1355104\n",
      "  0.68567269]\n"
     ]
    }
   ],
   "source": [
    "\n",
    "\n",
    "A = np.array([rd.uniform(-3, 3) for i in range(5000)])\n",
    "print(A)"
   ]
  },
  {
   "cell_type": "markdown",
   "metadata": {},
   "source": [
    "Generate 5000 numbers from a normal distribution, setting the parameters loc to 5 and scale to 2."
   ]
  },
  {
   "cell_type": "code",
   "execution_count": null,
   "metadata": {},
   "outputs": [
    {
     "name": "stdout",
     "output_type": "stream",
     "text": [
      "[5.95348301 7.1865828  9.19138139 ... 3.32783547 6.63707244 4.22406944]\n"
     ]
    }
   ],
   "source": [
    "B = np.random.normal(loc=5, scale=2, size=5000)\n",
    "print(B)"
   ]
  },
  {
   "cell_type": "markdown",
   "metadata": {},
   "source": [
    "Plot a histogram of uniforms with bins of width of 0.25 from 3 to 3 using plt.hist()."
   ]
  },
  {
   "cell_type": "code",
   "execution_count": null,
   "metadata": {},
   "outputs": [
    {
     "data": {
      "image/png": "[encoded data removed]",
      "text/plain": [
       "<Figure size 640x480 with 1 Axes>"
      ]
     },
     "metadata": {},
     "output_type": "display_data"
    }
   ],
   "source": [
    "bin = np.arange(-3,3,0.25)\n",
    "plt.hist(A, bins=bin)\n",
    "plt.show()"
   ]
  },
  {
   "cell_type": "markdown",
   "metadata": {},
   "source": [
    "Plot a histogram of normals with bins of width of 0.5 from -2 to 13 using plt.hist()."
   ]
  },
  {
   "cell_type": "code",
   "execution_count": null,
   "metadata": {},
   "outputs": [
    {
     "data": {
      "image/png": "[encoded data removed]",
      "text/plain": [
       "<Figure size 640x480 with 1 Axes>"
      ]
     },
     "metadata": {},
     "output_type": "display_data"
    }
   ],
   "source": [
    "bin = np.arange(-2,13,0.5)\n",
    "plt.hist(B, bins=bin)\n",
    "plt.show()"
   ]
  }
 ],
 "metadata": {
  "kernelspec": {
   "display_name": "Python 3",
   "language": "python",
   "name": "python3"
  },
  "language_info": {
   "codemirror_mode": {
    "name": "ipython",
    "version": 3
   },
   "file_extension": ".py",
   "mimetype": "text/x-python",
   "name": "python",
   "nbconvert_exporter": "python",
   "pygments_lexer": "ipython3",
   "version": "3.12.1"
  }
 },
 "nbformat": 4,
 "nbformat_minor": 2
}
