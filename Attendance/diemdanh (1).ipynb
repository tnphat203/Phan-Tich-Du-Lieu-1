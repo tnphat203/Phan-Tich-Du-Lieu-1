{
 "cells": [
  {
   "cell_type": "code",
   "execution_count": 12,
   "metadata": {},
   "outputs": [
    {
     "data": {
      "text/html": [
       "<div>\n",
       "<style scoped>\n",
       "    .dataframe tbody tr th:only-of-type {\n",
       "        vertical-align: middle;\n",
       "    }\n",
       "\n",
       "    .dataframe tbody tr th {\n",
       "        vertical-align: top;\n",
       "    }\n",
       "\n",
       "    .dataframe thead th {\n",
       "        text-align: right;\n",
       "    }\n",
       "</style>\n",
       "<table border=\"1\" class=\"dataframe\">\n",
       "  <thead>\n",
       "    <tr style=\"text-align: right;\">\n",
       "      <th></th>\n",
       "      <th>valence</th>\n",
       "      <th>year</th>\n",
       "      <th>acousticness</th>\n",
       "      <th>artists</th>\n",
       "      <th>danceability</th>\n",
       "      <th>duration_ms</th>\n",
       "      <th>energy</th>\n",
       "      <th>explicit</th>\n",
       "      <th>id</th>\n",
       "      <th>instrumentalness</th>\n",
       "      <th>key</th>\n",
       "      <th>liveness</th>\n",
       "      <th>loudness</th>\n",
       "      <th>mode</th>\n",
       "      <th>name</th>\n",
       "      <th>popularity</th>\n",
       "      <th>release_date</th>\n",
       "      <th>speechiness</th>\n",
       "      <th>tempo</th>\n",
       "    </tr>\n",
       "  </thead>\n",
       "  <tbody>\n",
       "    <tr>\n",
       "      <th>0</th>\n",
       "      <td>0.0594</td>\n",
       "      <td>1921</td>\n",
       "      <td>0.982</td>\n",
       "      <td>['Sergei Rachmaninoff', 'James Levine', 'Berli...</td>\n",
       "      <td>0.279</td>\n",
       "      <td>831667</td>\n",
       "      <td>0.211</td>\n",
       "      <td>0</td>\n",
       "      <td>4BJqT0PrAfrxzMOxytFOIz</td>\n",
       "      <td>0.878000</td>\n",
       "      <td>10</td>\n",
       "      <td>0.665</td>\n",
       "      <td>-20.096</td>\n",
       "      <td>1</td>\n",
       "      <td>Piano Concerto No. 3 in D Minor, Op. 30: III. ...</td>\n",
       "      <td>4</td>\n",
       "      <td>1921</td>\n",
       "      <td>0.0366</td>\n",
       "      <td>80.954</td>\n",
       "    </tr>\n",
       "    <tr>\n",
       "      <th>1</th>\n",
       "      <td>0.9630</td>\n",
       "      <td>1921</td>\n",
       "      <td>0.732</td>\n",
       "      <td>['Dennis Day']</td>\n",
       "      <td>0.819</td>\n",
       "      <td>180533</td>\n",
       "      <td>0.341</td>\n",
       "      <td>0</td>\n",
       "      <td>7xPhfUan2yNtyFG0cUWkt8</td>\n",
       "      <td>0.000000</td>\n",
       "      <td>7</td>\n",
       "      <td>0.160</td>\n",
       "      <td>-12.441</td>\n",
       "      <td>1</td>\n",
       "      <td>Clancy Lowered the Boom</td>\n",
       "      <td>5</td>\n",
       "      <td>1921</td>\n",
       "      <td>0.4150</td>\n",
       "      <td>60.936</td>\n",
       "    </tr>\n",
       "    <tr>\n",
       "      <th>2</th>\n",
       "      <td>0.0394</td>\n",
       "      <td>1921</td>\n",
       "      <td>0.961</td>\n",
       "      <td>['KHP Kridhamardawa Karaton Ngayogyakarta Hadi...</td>\n",
       "      <td>0.328</td>\n",
       "      <td>500062</td>\n",
       "      <td>0.166</td>\n",
       "      <td>0</td>\n",
       "      <td>1o6I8BglA6ylDMrIELygv1</td>\n",
       "      <td>0.913000</td>\n",
       "      <td>3</td>\n",
       "      <td>0.101</td>\n",
       "      <td>-14.850</td>\n",
       "      <td>1</td>\n",
       "      <td>Gati Bali</td>\n",
       "      <td>5</td>\n",
       "      <td>1921</td>\n",
       "      <td>0.0339</td>\n",
       "      <td>110.339</td>\n",
       "    </tr>\n",
       "    <tr>\n",
       "      <th>3</th>\n",
       "      <td>0.1650</td>\n",
       "      <td>1921</td>\n",
       "      <td>0.967</td>\n",
       "      <td>['Frank Parker']</td>\n",
       "      <td>0.275</td>\n",
       "      <td>210000</td>\n",
       "      <td>0.309</td>\n",
       "      <td>0</td>\n",
       "      <td>3ftBPsC5vPBKxYSee08FDH</td>\n",
       "      <td>0.000028</td>\n",
       "      <td>5</td>\n",
       "      <td>0.381</td>\n",
       "      <td>-9.316</td>\n",
       "      <td>1</td>\n",
       "      <td>Danny Boy</td>\n",
       "      <td>3</td>\n",
       "      <td>1921</td>\n",
       "      <td>0.0354</td>\n",
       "      <td>100.109</td>\n",
       "    </tr>\n",
       "    <tr>\n",
       "      <th>4</th>\n",
       "      <td>0.2530</td>\n",
       "      <td>1921</td>\n",
       "      <td>0.957</td>\n",
       "      <td>['Phil Regan']</td>\n",
       "      <td>0.418</td>\n",
       "      <td>166693</td>\n",
       "      <td>0.193</td>\n",
       "      <td>0</td>\n",
       "      <td>4d6HGyGT8e121BsdKmw9v6</td>\n",
       "      <td>0.000002</td>\n",
       "      <td>3</td>\n",
       "      <td>0.229</td>\n",
       "      <td>-10.096</td>\n",
       "      <td>1</td>\n",
       "      <td>When Irish Eyes Are Smiling</td>\n",
       "      <td>2</td>\n",
       "      <td>1921</td>\n",
       "      <td>0.0380</td>\n",
       "      <td>101.665</td>\n",
       "    </tr>\n",
       "    <tr>\n",
       "      <th>5</th>\n",
       "      <td>0.1960</td>\n",
       "      <td>1921</td>\n",
       "      <td>0.579</td>\n",
       "      <td>['KHP Kridhamardawa Karaton Ngayogyakarta Hadi...</td>\n",
       "      <td>0.697</td>\n",
       "      <td>395076</td>\n",
       "      <td>0.346</td>\n",
       "      <td>0</td>\n",
       "      <td>4pyw9DVHGStUre4J6hPngr</td>\n",
       "      <td>0.168000</td>\n",
       "      <td>2</td>\n",
       "      <td>0.130</td>\n",
       "      <td>-12.506</td>\n",
       "      <td>1</td>\n",
       "      <td>Gati Mardika</td>\n",
       "      <td>6</td>\n",
       "      <td>1921</td>\n",
       "      <td>0.0700</td>\n",
       "      <td>119.824</td>\n",
       "    </tr>\n",
       "    <tr>\n",
       "      <th>6</th>\n",
       "      <td>0.4060</td>\n",
       "      <td>1921</td>\n",
       "      <td>0.996</td>\n",
       "      <td>['John McCormack']</td>\n",
       "      <td>0.518</td>\n",
       "      <td>159507</td>\n",
       "      <td>0.203</td>\n",
       "      <td>0</td>\n",
       "      <td>5uNZnElqOS3W4fRmRYPk4T</td>\n",
       "      <td>0.000000</td>\n",
       "      <td>0</td>\n",
       "      <td>0.115</td>\n",
       "      <td>-10.589</td>\n",
       "      <td>1</td>\n",
       "      <td>The Wearing of the Green</td>\n",
       "      <td>4</td>\n",
       "      <td>1921</td>\n",
       "      <td>0.0615</td>\n",
       "      <td>66.221</td>\n",
       "    </tr>\n",
       "    <tr>\n",
       "      <th>7</th>\n",
       "      <td>0.0731</td>\n",
       "      <td>1921</td>\n",
       "      <td>0.993</td>\n",
       "      <td>['Sergei Rachmaninoff']</td>\n",
       "      <td>0.389</td>\n",
       "      <td>218773</td>\n",
       "      <td>0.088</td>\n",
       "      <td>0</td>\n",
       "      <td>02GDntOXexBFUvSgaXLPkd</td>\n",
       "      <td>0.527000</td>\n",
       "      <td>1</td>\n",
       "      <td>0.363</td>\n",
       "      <td>-21.091</td>\n",
       "      <td>0</td>\n",
       "      <td>Morceaux de fantaisie, Op. 3: No. 2, Prélude i...</td>\n",
       "      <td>2</td>\n",
       "      <td>1921</td>\n",
       "      <td>0.0456</td>\n",
       "      <td>92.867</td>\n",
       "    </tr>\n",
       "    <tr>\n",
       "      <th>8</th>\n",
       "      <td>0.7210</td>\n",
       "      <td>1921</td>\n",
       "      <td>0.996</td>\n",
       "      <td>['Ignacio Corsini']</td>\n",
       "      <td>0.485</td>\n",
       "      <td>161520</td>\n",
       "      <td>0.130</td>\n",
       "      <td>0</td>\n",
       "      <td>05xDjWH9ub67nJJk82yfGf</td>\n",
       "      <td>0.151000</td>\n",
       "      <td>5</td>\n",
       "      <td>0.104</td>\n",
       "      <td>-21.508</td>\n",
       "      <td>0</td>\n",
       "      <td>La Mañanita - Remasterizado</td>\n",
       "      <td>0</td>\n",
       "      <td>1921-03-20</td>\n",
       "      <td>0.0483</td>\n",
       "      <td>64.678</td>\n",
       "    </tr>\n",
       "    <tr>\n",
       "      <th>9</th>\n",
       "      <td>0.7710</td>\n",
       "      <td>1921</td>\n",
       "      <td>0.982</td>\n",
       "      <td>['Fortugé']</td>\n",
       "      <td>0.684</td>\n",
       "      <td>196560</td>\n",
       "      <td>0.257</td>\n",
       "      <td>0</td>\n",
       "      <td>08zfJvRLp7pjAb94MA9JmF</td>\n",
       "      <td>0.000000</td>\n",
       "      <td>8</td>\n",
       "      <td>0.504</td>\n",
       "      <td>-16.415</td>\n",
       "      <td>1</td>\n",
       "      <td>Il Etait Syndiqué</td>\n",
       "      <td>0</td>\n",
       "      <td>1921</td>\n",
       "      <td>0.3990</td>\n",
       "      <td>109.378</td>\n",
       "    </tr>\n",
       "  </tbody>\n",
       "</table>\n",
       "</div>"
      ],
      "text/plain": [
       "   valence  year  acousticness  \\\n",
       "0   0.0594  1921         0.982   \n",
       "1   0.9630  1921         0.732   \n",
       "2   0.0394  1921         0.961   \n",
       "3   0.1650  1921         0.967   \n",
       "4   0.2530  1921         0.957   \n",
       "5   0.1960  1921         0.579   \n",
       "6   0.4060  1921         0.996   \n",
       "7   0.0731  1921         0.993   \n",
       "8   0.7210  1921         0.996   \n",
       "9   0.7710  1921         0.982   \n",
       "\n",
       "                                             artists  danceability  \\\n",
       "0  ['Sergei Rachmaninoff', 'James Levine', 'Berli...         0.279   \n",
       "1                                     ['Dennis Day']         0.819   \n",
       "2  ['KHP Kridhamardawa Karaton Ngayogyakarta Hadi...         0.328   \n",
       "3                                   ['Frank Parker']         0.275   \n",
       "4                                     ['Phil Regan']         0.418   \n",
       "5  ['KHP Kridhamardawa Karaton Ngayogyakarta Hadi...         0.697   \n",
       "6                                 ['John McCormack']         0.518   \n",
       "7                            ['Sergei Rachmaninoff']         0.389   \n",
       "8                                ['Ignacio Corsini']         0.485   \n",
       "9                                        ['Fortugé']         0.684   \n",
       "\n",
       "   duration_ms  energy  explicit                      id  instrumentalness  \\\n",
       "0       831667   0.211         0  4BJqT0PrAfrxzMOxytFOIz          0.878000   \n",
       "1       180533   0.341         0  7xPhfUan2yNtyFG0cUWkt8          0.000000   \n",
       "2       500062   0.166         0  1o6I8BglA6ylDMrIELygv1          0.913000   \n",
       "3       210000   0.309         0  3ftBPsC5vPBKxYSee08FDH          0.000028   \n",
       "4       166693   0.193         0  4d6HGyGT8e121BsdKmw9v6          0.000002   \n",
       "5       395076   0.346         0  4pyw9DVHGStUre4J6hPngr          0.168000   \n",
       "6       159507   0.203         0  5uNZnElqOS3W4fRmRYPk4T          0.000000   \n",
       "7       218773   0.088         0  02GDntOXexBFUvSgaXLPkd          0.527000   \n",
       "8       161520   0.130         0  05xDjWH9ub67nJJk82yfGf          0.151000   \n",
       "9       196560   0.257         0  08zfJvRLp7pjAb94MA9JmF          0.000000   \n",
       "\n",
       "   key  liveness  loudness  mode  \\\n",
       "0   10     0.665   -20.096     1   \n",
       "1    7     0.160   -12.441     1   \n",
       "2    3     0.101   -14.850     1   \n",
       "3    5     0.381    -9.316     1   \n",
       "4    3     0.229   -10.096     1   \n",
       "5    2     0.130   -12.506     1   \n",
       "6    0     0.115   -10.589     1   \n",
       "7    1     0.363   -21.091     0   \n",
       "8    5     0.104   -21.508     0   \n",
       "9    8     0.504   -16.415     1   \n",
       "\n",
       "                                                name  popularity release_date  \\\n",
       "0  Piano Concerto No. 3 in D Minor, Op. 30: III. ...           4         1921   \n",
       "1                            Clancy Lowered the Boom           5         1921   \n",
       "2                                          Gati Bali           5         1921   \n",
       "3                                          Danny Boy           3         1921   \n",
       "4                        When Irish Eyes Are Smiling           2         1921   \n",
       "5                                       Gati Mardika           6         1921   \n",
       "6                           The Wearing of the Green           4         1921   \n",
       "7  Morceaux de fantaisie, Op. 3: No. 2, Prélude i...           2         1921   \n",
       "8                        La Mañanita - Remasterizado           0   1921-03-20   \n",
       "9                                  Il Etait Syndiqué           0         1921   \n",
       "\n",
       "   speechiness    tempo  \n",
       "0       0.0366   80.954  \n",
       "1       0.4150   60.936  \n",
       "2       0.0339  110.339  \n",
       "3       0.0354  100.109  \n",
       "4       0.0380  101.665  \n",
       "5       0.0700  119.824  \n",
       "6       0.0615   66.221  \n",
       "7       0.0456   92.867  \n",
       "8       0.0483   64.678  \n",
       "9       0.3990  109.378  "
      ]
     },
     "execution_count": 12,
     "metadata": {},
     "output_type": "execute_result"
    }
   ],
   "source": [
    "import pandas\n",
    "spotify_population = pandas.read_csv(\"../data/data_spotify.csv\")\n",
    "spotify_population.head(10)"
   ]
  },
  {
   "cell_type": "code",
   "execution_count": null,
   "metadata": {},
   "outputs": [
    {
     "name": "stdout",
     "output_type": "stream",
     "text": [
      "Population mean:  230948.3106655025\n",
      "Sample mean:  227853.753\n"
     ]
    }
   ],
   "source": [
    "spotify_sample = spotify_population.sample(1000)\n",
    "\n",
    "mean_duration_population = spotify_population[\"duration_ms\"].mean()\n",
    "mean_duration_sample = spotify_sample[\"duration_ms\"].mean()\n",
    "\n",
    "print(\"Population mean: \", mean_duration_population)\n",
    "print(\"Sample mean: \", mean_duration_sample)"
   ]
  },
  {
   "cell_type": "code",
   "execution_count": null,
   "metadata": {},
   "outputs": [
    {
     "data": {
      "text/plain": [
       "<Axes: >"
      ]
     },
     "execution_count": 24,
     "metadata": {},
     "output_type": "execute_result"
    },
    {
     "data": {
      "image/png": "[encoded data removed]",
      "text/plain": [
       "<Figure size 640x480 with 1 Axes>"
      ]
     },
     "metadata": {},
     "output_type": "display_data"
    }
   ],
   "source": [
    "spotify_population[\"acousticness\"].hist(bins = 100)"
   ]
  },
  {
   "cell_type": "code",
   "execution_count": null,
   "metadata": {},
   "outputs": [
    {
     "data": {
      "text/plain": [
       "<Axes: >"
      ]
     },
     "execution_count": 25,
     "metadata": {},
     "output_type": "execute_result"
    },
    {
     "data": {
      "image/png": "[encoded data removed]",
      "text/plain": [
       "<Figure size 640x480 with 1 Axes>"
      ]
     },
     "metadata": {},
     "output_type": "display_data"
    }
   ],
   "source": [
    "spotify_sample[\"acousticness\"].hist(bins = 100)"
   ]
  },
  {
   "cell_type": "markdown",
   "metadata": {},
   "source": [
    "Giá trị aucousticness của sample khá giống với giá trị aucousticness của population -> có thể sử dụng để khái quát hóa so với tổng thể"
   ]
  },
  {
   "cell_type": "markdown",
   "metadata": {},
   "source": [
    "**Bài tập** Cho các số a, b, m, n trong đó a < b là hai số thực bất kỳ; m, n là các số nguyên dương. VIết hàm số tạo một mảng hai chiều có shape(m, n), các phần tử là các số ngẫu nhiên phân bố đều trong nửa đoạn [a, b)"
   ]
  },
  {
   "cell_type": "code",
   "execution_count": null,
   "metadata": {},
   "outputs": [],
   "source": [
    "import numpy as np"
   ]
  },
  {
   "cell_type": "code",
   "execution_count": null,
   "metadata": {},
   "outputs": [
    {
     "name": "stdout",
     "output_type": "stream",
     "text": [
      "[[2.27889075 2.75569711 2.4067233  2.05474019 2.13038174]\n",
      " [2.8556296  2.10225083 2.69525853 2.79740048 2.82940382]\n",
      " [2.61981825 2.98245952 2.49842126 2.44718183 2.71479316]\n",
      " [2.67204231 2.52200907 2.24372695 2.44572437 2.90109124]]\n",
      "Kỳ vọng:  2.5\n",
      "Phương sai:  0.08333333333333333\n"
     ]
    }
   ],
   "source": [
    "m, n = 4, 5\n",
    "a, b = 2, 3\n",
    "shape = (m, n)\n",
    "shape = np.random.uniform(a, b, size = shape)\n",
    "\n",
    "print(shape)\n",
    "\n",
    "print('Kỳ vọng: ', (a + b) / 2)\n",
    "print('Phương sai: ', (b - a) ** 2 / 12)"
   ]
  },
  {
   "cell_type": "markdown",
   "metadata": {},
   "source": [
    "**Bài tập** Cho các số a, s, m, n với:\n",
    "a là một số thực bất kỳ\n",
    "s là một số thực dương\n",
    "m, n là các số nguyên dương\n",
    "\n",
    "Xây dựng một mảng ngẫu nhiên hai chiều cố shape = (m, n) mà các phần tử của nó tuân theo phân phối có kỳ vọng bằng a và phương sai là s."
   ]
  },
  {
   "cell_type": "code",
   "execution_count": null,
   "metadata": {},
   "outputs": [
    {
     "data": {
      "text/plain": [
       "array([[ 1.25675505,  2.45239257,  3.56654811,  3.75577127,  3.65567056],\n",
       "       [ 0.05195657,  1.83508858, -0.43295609,  0.11216036,  5.26433477],\n",
       "       [ 0.60103465,  3.14127623, -1.98544674, -0.70342437,  1.42248323],\n",
       "       [ 1.5989791 ,  0.61838036,  2.92828085,  0.74880036,  3.26755254]])"
      ]
     },
     "execution_count": 35,
     "metadata": {},
     "output_type": "execute_result"
    }
   ],
   "source": [
    "import scipy.stats as stats\n",
    "m, n = 4, 5\n",
    "a, s = 2, 3\n",
    "shape = (m, n)\n",
    "\n",
    "sample = stats.norm.rvs(loc = a, scale = s**0.5, size = shape)\n",
    "sample"
   ]
  },
  {
   "cell_type": "markdown",
   "metadata": {},
   "source": [
    "**4.** Generating random numbers"
   ]
  },
  {
   "cell_type": "code",
   "execution_count": null,
   "metadata": {},
   "outputs": [
    {
     "data": {
      "image/png": "[encoded data removed]",
      "text/plain": [
       "<Figure size 640x480 with 1 Axes>"
      ]
     },
     "metadata": {},
     "output_type": "display_data"
    }
   ],
   "source": [
    "plt.hist(sample, bins=100, range=(-3, 3))\n",
    "plt.show()"
   ]
  },
  {
   "cell_type": "code",
   "execution_count": null,
   "metadata": {},
   "outputs": [
    {
     "data": {
      "image/png": "[encoded data removed]",
      "text/plain": [
       "<Figure size 640x480 with 1 Axes>"
      ]
     },
     "metadata": {},
     "output_type": "display_data"
    }
   ],
   "source": [
    "plt.hist(sample1, bins=100, range=(-3, 3))\n",
    "plt.show()"
   ]
  }
 ],
 "metadata": {
  "kernelspec": {
   "display_name": "Python 3",
   "language": "python",
   "name": "python3"
  },
  "language_info": {
   "codemirror_mode": {
    "name": "ipython",
    "version": 3
   },
   "file_extension": ".py",
   "mimetype": "text/x-python",
   "name": "python",
   "nbconvert_exporter": "python",
   "pygments_lexer": "ipython3",
   "version": "3.12.1"
  }
 },
 "nbformat": 4,
 "nbformat_minor": 2
}
