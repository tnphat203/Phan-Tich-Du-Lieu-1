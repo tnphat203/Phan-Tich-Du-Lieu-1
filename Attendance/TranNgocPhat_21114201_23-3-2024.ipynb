{
 "cells": [
  {
   "cell_type": "code",
   "execution_count": 36,
   "metadata": {},
   "outputs": [],
   "source": [
    "import pandas as pd\n",
    "import numpy as np"
   ]
  },
  {
   "cell_type": "markdown",
   "metadata": {},
   "source": [
    "Load data vào sales df"
   ]
  },
  {
   "cell_type": "code",
   "execution_count": 37,
   "metadata": {},
   "outputs": [
    {
     "data": {
      "text/html": [
       "<div>\n",
       "<style scoped>\n",
       "    .dataframe tbody tr th:only-of-type {\n",
       "        vertical-align: middle;\n",
       "    }\n",
       "\n",
       "    .dataframe tbody tr th {\n",
       "        vertical-align: top;\n",
       "    }\n",
       "\n",
       "    .dataframe thead th {\n",
       "        text-align: right;\n",
       "    }\n",
       "</style>\n",
       "<table border=\"1\" class=\"dataframe\">\n",
       "  <thead>\n",
       "    <tr style=\"text-align: right;\">\n",
       "      <th></th>\n",
       "      <th>tv</th>\n",
       "      <th>radio</th>\n",
       "      <th>social_media</th>\n",
       "      <th>influencer</th>\n",
       "      <th>sales</th>\n",
       "    </tr>\n",
       "  </thead>\n",
       "  <tbody>\n",
       "    <tr>\n",
       "      <th>0</th>\n",
       "      <td>16000.0</td>\n",
       "      <td>6566.23</td>\n",
       "      <td>2907.98</td>\n",
       "      <td>Mega</td>\n",
       "      <td>54732.76</td>\n",
       "    </tr>\n",
       "    <tr>\n",
       "      <th>1</th>\n",
       "      <td>13000.0</td>\n",
       "      <td>9237.76</td>\n",
       "      <td>2409.57</td>\n",
       "      <td>Mega</td>\n",
       "      <td>46677.90</td>\n",
       "    </tr>\n",
       "    <tr>\n",
       "      <th>2</th>\n",
       "      <td>41000.0</td>\n",
       "      <td>15886.45</td>\n",
       "      <td>2913.41</td>\n",
       "      <td>Mega</td>\n",
       "      <td>150177.83</td>\n",
       "    </tr>\n",
       "    <tr>\n",
       "      <th>3</th>\n",
       "      <td>83000.0</td>\n",
       "      <td>30020.03</td>\n",
       "      <td>6922.30</td>\n",
       "      <td>Mega</td>\n",
       "      <td>298246.34</td>\n",
       "    </tr>\n",
       "    <tr>\n",
       "      <th>4</th>\n",
       "      <td>15000.0</td>\n",
       "      <td>8437.41</td>\n",
       "      <td>1406.00</td>\n",
       "      <td>Micro</td>\n",
       "      <td>56594.18</td>\n",
       "    </tr>\n",
       "    <tr>\n",
       "      <th>...</th>\n",
       "      <td>...</td>\n",
       "      <td>...</td>\n",
       "      <td>...</td>\n",
       "      <td>...</td>\n",
       "      <td>...</td>\n",
       "    </tr>\n",
       "    <tr>\n",
       "      <th>4541</th>\n",
       "      <td>26000.0</td>\n",
       "      <td>4472.36</td>\n",
       "      <td>717.09</td>\n",
       "      <td>Micro</td>\n",
       "      <td>94685.87</td>\n",
       "    </tr>\n",
       "    <tr>\n",
       "      <th>4542</th>\n",
       "      <td>71000.0</td>\n",
       "      <td>20610.69</td>\n",
       "      <td>6545.57</td>\n",
       "      <td>Nano</td>\n",
       "      <td>249101.92</td>\n",
       "    </tr>\n",
       "    <tr>\n",
       "      <th>4543</th>\n",
       "      <td>44000.0</td>\n",
       "      <td>19800.07</td>\n",
       "      <td>5096.19</td>\n",
       "      <td>Micro</td>\n",
       "      <td>163631.46</td>\n",
       "    </tr>\n",
       "    <tr>\n",
       "      <th>4544</th>\n",
       "      <td>71000.0</td>\n",
       "      <td>17534.64</td>\n",
       "      <td>1940.87</td>\n",
       "      <td>Macro</td>\n",
       "      <td>253610.41</td>\n",
       "    </tr>\n",
       "    <tr>\n",
       "      <th>4545</th>\n",
       "      <td>42000.0</td>\n",
       "      <td>15966.69</td>\n",
       "      <td>5046.55</td>\n",
       "      <td>Micro</td>\n",
       "      <td>148202.41</td>\n",
       "    </tr>\n",
       "  </tbody>\n",
       "</table>\n",
       "<p>4546 rows × 5 columns</p>\n",
       "</div>"
      ],
      "text/plain": [
       "           tv     radio  social_media influencer      sales\n",
       "0     16000.0   6566.23       2907.98       Mega   54732.76\n",
       "1     13000.0   9237.76       2409.57       Mega   46677.90\n",
       "2     41000.0  15886.45       2913.41       Mega  150177.83\n",
       "3     83000.0  30020.03       6922.30       Mega  298246.34\n",
       "4     15000.0   8437.41       1406.00      Micro   56594.18\n",
       "...       ...       ...           ...        ...        ...\n",
       "4541  26000.0   4472.36        717.09      Micro   94685.87\n",
       "4542  71000.0  20610.69       6545.57       Nano  249101.92\n",
       "4543  44000.0  19800.07       5096.19      Micro  163631.46\n",
       "4544  71000.0  17534.64       1940.87      Macro  253610.41\n",
       "4545  42000.0  15966.69       5046.55      Micro  148202.41\n",
       "\n",
       "[4546 rows x 5 columns]"
      ]
     },
     "execution_count": 37,
     "metadata": {},
     "output_type": "execute_result"
    }
   ],
   "source": [
    "sales_df = pd.read_csv('../data/advertising_and_sales_clean.csv')\n",
    "sales_df"
   ]
  },
  {
   "cell_type": "markdown",
   "metadata": {},
   "source": [
    "* Create x, an array of the values from the sales_df DataFrame's \"radio\" column.\n",
    "* Create y, an array of the values from the sales df DataFrame's \"sales\" column."
   ]
  },
  {
   "cell_type": "code",
   "execution_count": 38,
   "metadata": {},
   "outputs": [
    {
     "data": {
      "text/plain": [
       "array([ 6566.23,  9237.76, 15886.45, ..., 19800.07, 17534.64, 15966.69])"
      ]
     },
     "execution_count": 38,
     "metadata": {},
     "output_type": "execute_result"
    }
   ],
   "source": [
    "x = np.array(sales_df['radio'])\n",
    "y = np.array(sales_df['sales'])\n",
    "x"
   ]
  },
  {
   "cell_type": "markdown",
   "metadata": {},
   "source": [
    "Reshape x into a two-dimensional NumPy array."
   ]
  },
  {
   "cell_type": "code",
   "execution_count": 39,
   "metadata": {},
   "outputs": [
    {
     "data": {
      "text/plain": [
       "array([[ 6566.23],\n",
       "       [ 9237.76],\n",
       "       [15886.45],\n",
       "       ...,\n",
       "       [19800.07],\n",
       "       [17534.64],\n",
       "       [15966.69]])"
      ]
     },
     "execution_count": 39,
     "metadata": {},
     "output_type": "execute_result"
    }
   ],
   "source": [
    "x_reshape = x.reshape(-1, 1)\n",
    "x_reshape"
   ]
  },
  {
   "cell_type": "markdown",
   "metadata": {},
   "source": [
    "Print the shape of x and y."
   ]
  },
  {
   "cell_type": "code",
   "execution_count": 40,
   "metadata": {},
   "outputs": [
    {
     "name": "stdout",
     "output_type": "stream",
     "text": [
      "(4546,)\n",
      "(4546,)\n"
     ]
    }
   ],
   "source": [
    "print(x.shape)\n",
    "print(y.shape)"
   ]
  },
  {
   "cell_type": "markdown",
   "metadata": {},
   "source": [
    "Import LinearRegression."
   ]
  },
  {
   "cell_type": "code",
   "execution_count": 41,
   "metadata": {},
   "outputs": [],
   "source": [
    "from sklearn.linear_model import LinearRegression as lr\n",
    "from sklearn.model_selection import train_test_split"
   ]
  },
  {
   "cell_type": "markdown",
   "metadata": {},
   "source": [
    "Instantiate a linear regression model.\n"
   ]
  },
  {
   "cell_type": "code",
   "execution_count": 42,
   "metadata": {},
   "outputs": [],
   "source": [
    "model = lr()"
   ]
  },
  {
   "cell_type": "markdown",
   "metadata": {},
   "source": [
    "Predict sales values using x, storing as predictions."
   ]
  },
  {
   "cell_type": "code",
   "execution_count": 43,
   "metadata": {},
   "outputs": [
    {
     "data": {
      "text/plain": [
       "array([157413.41784725,  91786.14240858, 128511.03017493, 135049.6475616 ,\n",
       "       198754.8451054 ])"
      ]
     },
     "execution_count": 43,
     "metadata": {},
     "output_type": "execute_result"
    }
   ],
   "source": [
    "x_train, x_test, y_train, y_test = train_test_split(x_reshape, y, test_size=0.2)\n",
    "model.fit(x_train, y_train)\n",
    "predictions = model.predict(x_test)\n",
    "predictions[:5]"
   ]
  },
  {
   "cell_type": "markdown",
   "metadata": {},
   "source": [
    "Import matplotlib.pyplot as plt."
   ]
  },
  {
   "cell_type": "code",
   "execution_count": 44,
   "metadata": {},
   "outputs": [],
   "source": [
    "import matplotlib.pyplot as plt"
   ]
  },
  {
   "cell_type": "markdown",
   "metadata": {},
   "source": [
    "* Create a scatter plot visualizing y against x, with observations in blue.\n",
    "* Draw a red line plot displaying the predictions against x.\n",
    "* Display the plot."
   ]
  },
  {
   "cell_type": "code",
   "execution_count": 45,
   "metadata": {},
   "outputs": [
    {
     "data": {
      "image/png": "[encoded data removed]",
      "text/plain": [
       "<Figure size 640x480 with 1 Axes>"
      ]
     },
     "metadata": {},
     "output_type": "display_data"
    }
   ],
   "source": [
    "plt.title('Radio vs Sales')\n",
    "plt.scatter(x_test, y_test, color='blue')\n",
    "plt.plot(x_test, predictions, color='red')\n",
    "plt.show()"
   ]
  },
  {
   "cell_type": "markdown",
   "metadata": {},
   "source": [
    "Now you have seen how linear regression works, your task is to create a multiple linear regression model using all of the features in the sales_df dataset.\n",
    "* Create x, an array containing values of all features in sales_df, and y, containing all values from the \"sales\" column.\n",
    "* Instantiate a linear regression model.\n",
    "* Fit the model to the training data (70% for train).\n",
    "* Create y pred, making predictions for sales using the test features."
   ]
  },
  {
   "cell_type": "code",
   "execution_count": 46,
   "metadata": {},
   "outputs": [
    {
     "data": {
      "text/plain": [
       "array([309140.97, 270462.91, 190252.01,  59495.16,  80940.73])"
      ]
     },
     "execution_count": 46,
     "metadata": {},
     "output_type": "execute_result"
    }
   ],
   "source": [
    "# -\tCreate x, an array containing values of all features in sales_df, and y, containing all values from the “sales” column.\n",
    "x = sales_df.drop(\"influencer\", axis=1).values\n",
    "y = sales_df['sales'].values\n",
    "#-\tInstantiate a linear regression model.\n",
    "model = lr()\n",
    "# -\tFit the model to the training data (70% for train).\n",
    "x_train, x_test, y_train, y_test = train_test_split(x, y, test_size=0.3)\n",
    "# -\tCreate y_pred making predictions for the sales using the test features.\n",
    "model.fit(x_train, y_train)\n",
    "y_pred = model.predict(x_test)\n",
    "y_pred[:5]"
   ]
  },
  {
   "cell_type": "markdown",
   "metadata": {},
   "source": [
    "Now you have fit a model, reg, using all features from sales_df, and made predictions of sales values, you can evaluate performance using some common regression metrics.\n",
    "* Import mean squared error.\n",
    "* Calculate the model's R-squared score by passing the test feature values and the test target values to an appropriate method.\n",
    "* Calculate the model's root mean squared error using y_test and y_pred.\n",
    "* Print r squared and rmse."
   ]
  },
  {
   "cell_type": "code",
   "execution_count": 47,
   "metadata": {},
   "outputs": [
    {
     "name": "stdout",
     "output_type": "stream",
     "text": [
      "1.0 1.170022798636992e-10\n"
     ]
    },
    {
     "name": "stderr",
     "output_type": "stream",
     "text": [
      "c:\\Users\\TranNgocPhat\\AppData\\Local\\Programs\\Python\\Python312\\Lib\\site-packages\\sklearn\\metrics\\_regression.py:483: FutureWarning: 'squared' is deprecated in version 1.4 and will be removed in 1.6. To calculate the root mean squared error, use the function'root_mean_squared_error'.\n",
      "  warnings.warn(\n"
     ]
    }
   ],
   "source": [
    "# -\tImport mean_squared_error.\n",
    "from sklearn.metrics import mean_squared_error\n",
    "# -\tCalculate the model’s R_squared score by passing the test feature values and the test target values to an appropriate method\n",
    "r_squared = model.score(x_test, y_test)\n",
    "# -\tCalculate the model’s root mean squared error using y_test and y_pred.\n",
    "rmse = mean_squared_error(y_test, y_pred, squared=False)\n",
    "\n",
    "print(r_squared, rmse)"
   ]
  },
  {
   "cell_type": "markdown",
   "metadata": {},
   "source": [
    "Cross-validation is a vital approach to evaluating a model. It maximizes the amount of data that is available to the model, as the model is not only trained but also tested on all of the available data.\n",
    "* Import KFold and cross_val_score.\n",
    "* Create kf by calling KFold (), setting the number of splits to six, shuffle to True, and setting\n",
    "a seed of 5.\n",
    "* Perform cross-validation using reg on x and y, passing kf to cv.\n",
    "* Print the cv scores."
   ]
  },
  {
   "cell_type": "code",
   "execution_count": 48,
   "metadata": {},
   "outputs": [
    {
     "name": "stdout",
     "output_type": "stream",
     "text": [
      "[1. 1. 1. 1. 1. 1.]\n"
     ]
    }
   ],
   "source": [
    "# import KFold and cross_val_score\n",
    "from sklearn.model_selection import KFold\n",
    "from sklearn.model_selection import cross_val_score\n",
    "# -\tCreate kf by calling Kfold(), setting the number of splits to six, shuffle to True, and setting a seed of 5.\n",
    "kf = KFold(n_splits=6, shuffle=True, random_state=5)\n",
    "#-\tPerform cross-validation using reg on x and y, passing kf to cv.\n",
    "cv_scores = cross_val_score(model, x, y, cv=kf)\n",
    "print(cv_scores)"
   ]
  },
  {
   "cell_type": "markdown",
   "metadata": {},
   "source": [
    "Now you have performed cross-validation, it's time to analyze the results.\n",
    "\n",
    "\n",
    "You will display the mean, standard deviation, and 95% confidence interval for cv_results, which has been preloaded for you from the previous exercise.\n",
    "* Calculate and print the mean of the results.\n",
    "* Calculate and print the standard deviation of cv_results.\n",
    "* Display the 95% confidence interval for your results using np.quantile()."
   ]
  },
  {
   "cell_type": "code",
   "execution_count": 49,
   "metadata": {},
   "outputs": [
    {
     "name": "stdout",
     "output_type": "stream",
     "text": [
      "Mean: 1.0\n",
      "Standard Deviation: 0.0\n",
      "95% Confidence Interval: [1. 1.]\n"
     ]
    }
   ],
   "source": [
    "cv_results = cv_scores\n",
    "mean = np.mean(cv_results)\n",
    "std_dev = np.std(cv_results)\n",
    "confidence_interval = np.percentile(cv_results, [2.5, 97.5])\n",
    "\n",
    "print(\"Mean:\", mean)\n",
    "print(\"Standard Deviation:\", std_dev)\n",
    "print(\"95% Confidence Interval:\", confidence_interval)"
   ]
  },
  {
   "cell_type": "markdown",
   "metadata": {},
   "source": [
    "Ridge regression performs regularization by computing the squared values of the model parameters multiplied by alpha and adding them to the loss function.\n",
    "\n",
    "\n",
    "In this exercise, you will fit ridge regression models over a range of different alpha values, and print their R2 scores. You will use all of the features in the sales_df dataset to predict \"sales\". The data has been split into X train, X test, y_train, y test for you.\n",
    "\n",
    "\n",
    "alphas = [0.1, 1.0, 10.0, 100.0, 1000.0, 10000.0]\n",
    "* Import Ridge.\n",
    "* Instantiate Ridge, setting alpha equal to alpha.\n",
    "* Fit the model to the training data.\n",
    "* Calculate the R2 score for each iteration of ridge."
   ]
  },
  {
   "cell_type": "code",
   "execution_count": 51,
   "metadata": {},
   "outputs": [
    {
     "name": "stdout",
     "output_type": "stream",
     "text": [
      "1.0\n",
      "1.0\n",
      "1.0\n",
      "1.0\n",
      "1.0\n",
      "0.9999999999999999\n"
     ]
    }
   ],
   "source": [
    "# import Ridge\n",
    "from sklearn.linear_model import Ridge\n",
    "alphas = [0.1, 1.0, 10.0, 100.0, 1000.0, 10000.0]\n",
    "# -\tInstantiate Ridge, setting alpha equal to alpha.\n",
    "for i in alphas:\n",
    "    ridge = Ridge(alpha=i)\n",
    "    # -\tFit the model to the training data.\n",
    "    ridge.fit(x_train, y_train)\n",
    "    #-\tCalculate the R^2 score for each interation of ridge\n",
    "    r_squared = ridge.score(x_test, y_test)\n",
    "    print(r_squared)"
   ]
  },
  {
   "cell_type": "markdown",
   "metadata": {},
   "source": [
    "In the video, you saw how lasso regression can be used to identify important features in a dataset.\n",
    "\n",
    "\n",
    "In this exercise, you will fit a lasso regression model to the sales_df data and plot the model's coefficient\n",
    "* Import Lasso from sklearn.linear_model.\n",
    "* Instantiate a Lasso regressor with an alpha of 0.3.\n",
    "* Fit the model to the data.\n",
    "* Compute the model's coefficients, storing as lasso coef."
   ]
  },
  {
   "cell_type": "code",
   "execution_count": null,
   "metadata": {},
   "outputs": [],
   "source": [
    "# Import Lasso from sklearn.linear_model\n",
    "from sklearn.linear_model import Lasso\n",
    "# -\tInstantiate Lasso\n",
    "lasso = Lasso(alpha=0.3)\n",
    "# -\tFit the model to the data.\n",
    "lasso.fit(x_train, y_train)\n",
    "# Compute the model's coefficient, storingg as lasso_coef\n",
    "lasso_coef = lasso.coef_\n",
    "lasso_coef"
   ]
  }
 ],
 "metadata": {
  "kernelspec": {
   "display_name": "Python 3",
   "language": "python",
   "name": "python3"
  },
  "language_info": {
   "codemirror_mode": {
    "name": "ipython",
    "version": 3
   },
   "file_extension": ".py",
   "mimetype": "text/x-python",
   "name": "python",
   "nbconvert_exporter": "python",
   "pygments_lexer": "ipython3",
   "version": "3.12.1"
  }
 },
 "nbformat": 4,
 "nbformat_minor": 2
}
